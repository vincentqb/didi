{
 "cells": [
  {
   "cell_type": "markdown",
   "metadata": {},
   "source": [
    "Exploration of the data from the [Di-Tech Challenge](http://research.xiaojukeji.com/competition), organized by Didi Chuxing, a ride-hailing company in China. The data is described [here](http://research.xiaojukeji.com/competition/detail.action?competitionId=DiTech2016)."
   ]
  },
  {
   "cell_type": "code",
   "execution_count": 1,
   "metadata": {
    "collapsed": true
   },
   "outputs": [],
   "source": [
    "from time import clock\n",
    "import numpy as np\n",
    "import pandas as pd\n",
    "\n",
    "# Warn about chained assignment in pandas?\n",
    "# pd.options.mode.chained_assignment = None\n",
    "\n",
    "# import matplotlib\n",
    "# matplotlib.use('Agg')\n",
    "\n",
    "from ggplot import *\n",
    "%matplotlib inline"
   ]
  },
  {
   "cell_type": "markdown",
   "metadata": {},
   "source": [
    "# Order Info Table\n",
    "\n",
    "<table>\n",
    "        <tr>\n",
    "            <th>Field</th>\n",
    "            <th>Type</th>\n",
    "            <th>Meaning</th>\n",
    "            <th>Example</th>\n",
    "        </tr>\n",
    "        <tr>\n",
    "            <td>order_id</td>\n",
    "            <td>string</td>\n",
    "            <td>order ID</td>\n",
    "            <td>70fc7c2bd2caf386bb50f8fd5dfef0cf</td>\n",
    "        </tr>\n",
    "        <tr>\n",
    "            <td>driver_id</td>\n",
    "            <td>string</td>\n",
    "            <td>driver ID</td>\n",
    "            <td>56018323b921dd2c5444f98fb45509de</td>\n",
    "        </tr>\n",
    "        <tr>\n",
    "            <td>passenger_id</td>\n",
    "            <td>string</td>\n",
    "            <td>user ID</td>\n",
    "            <td>238de35f44bbe8a67bdea86a5b0f4719</td>\n",
    "        </tr>\n",
    "        <tr>\n",
    "            <td>start_district_hash</td>\n",
    "            <td>string</td>\n",
    "            <td>departure</td>\n",
    "            <td>d4ec2125aff74eded207d2d915ef682f</td>\n",
    "        </tr>\n",
    "        <tr>\n",
    "            <td>dest_district_hash</td>\n",
    "            <td>string</td>\n",
    "            <td>destination</td>\n",
    "            <td>929ec6c160e6f52c20a4217c7978f681</td>\n",
    "        </tr>\n",
    "        <tr>\n",
    "            <td>Price</td>\n",
    "            <td>double</td>\n",
    "            <td>Price</td>\n",
    "            <td>37.5</td>\n",
    "        </tr>\n",
    "        <tr>\n",
    "            <td>Time</td>\n",
    "            <td>string</td>\n",
    "            <td>Timestamp of the order</td>\n",
    "            <td>2016-01-15 00:35:11</td>\n",
    "        </tr>\n",
    "</table>\n",
    "\n",
    "The Order Info Table shows the basic information of an order, including the passenger and the driver (if driver_id =NULL, it means the order was not answered by any driver), place of origin, destination, price and time. The fields order_id, driver_id, passenger_id, start_hash, and dest_hash are made not sensitive."
   ]
  },
  {
   "cell_type": "code",
   "execution_count": 2,
   "metadata": {
    "collapsed": false
   },
   "outputs": [
    {
     "data": {
      "text/html": [
       "<div>\n",
       "<table border=\"1\" class=\"dataframe\">\n",
       "  <thead>\n",
       "    <tr style=\"text-align: right;\">\n",
       "      <th></th>\n",
       "      <th>order_id</th>\n",
       "      <th>driver_id</th>\n",
       "      <th>passenger_id</th>\n",
       "      <th>start_district_hash</th>\n",
       "      <th>dest_district_hash</th>\n",
       "      <th>price</th>\n",
       "      <th>time</th>\n",
       "    </tr>\n",
       "  </thead>\n",
       "  <tbody>\n",
       "    <tr>\n",
       "      <th>0</th>\n",
       "      <td>8eb94f6832600ee0d342d8a931f64df7</td>\n",
       "      <td>a51979c9a0b257fa81cc401ac8addc97</td>\n",
       "      <td>114cfc989cea164e63d3405fe3055d09</td>\n",
       "      <td>90c5a34f06ac86aee0fd70e2adce7d8a</td>\n",
       "      <td>90c5a34f06ac86aee0fd70e2adce7d8a</td>\n",
       "      <td>7</td>\n",
       "      <td>2016-01-10 19:42:02</td>\n",
       "    </tr>\n",
       "    <tr>\n",
       "      <th>1</th>\n",
       "      <td>982ca599b83542f32a62fa63fdc25681</td>\n",
       "      <td>9f5decbb0180ab1979ff293bec7d1f93</td>\n",
       "      <td>d52994586c13b6066fd031ba7f684e24</td>\n",
       "      <td>62afaf3288e236b389af9cfdc5206415</td>\n",
       "      <td>62afaf3288e236b389af9cfdc5206415</td>\n",
       "      <td>8</td>\n",
       "      <td>2016-01-10 14:24:23</td>\n",
       "    </tr>\n",
       "  </tbody>\n",
       "</table>\n",
       "</div>"
      ],
      "text/plain": [
       "                           order_id                         driver_id  \\\n",
       "0  8eb94f6832600ee0d342d8a931f64df7  a51979c9a0b257fa81cc401ac8addc97   \n",
       "1  982ca599b83542f32a62fa63fdc25681  9f5decbb0180ab1979ff293bec7d1f93   \n",
       "\n",
       "                       passenger_id               start_district_hash  \\\n",
       "0  114cfc989cea164e63d3405fe3055d09  90c5a34f06ac86aee0fd70e2adce7d8a   \n",
       "1  d52994586c13b6066fd031ba7f684e24  62afaf3288e236b389af9cfdc5206415   \n",
       "\n",
       "                 dest_district_hash  price                time  \n",
       "0  90c5a34f06ac86aee0fd70e2adce7d8a      7 2016-01-10 19:42:02  \n",
       "1  62afaf3288e236b389af9cfdc5206415      8 2016-01-10 14:24:23  "
      ]
     },
     "execution_count": 2,
     "metadata": {},
     "output_type": "execute_result"
    }
   ],
   "source": [
    "# Columns in order files\n",
    "columns = ['order_id', 'driver_id', 'passenger_id', 'start_district_hash', 'dest_district_hash', 'price', 'time']\n",
    "\n",
    "# Open only one file\n",
    "# order_file_1 = \"data/season_1/training_data/order_data/order_data_2016-01-01\"\n",
    "# df = df_1 = pd.read_csv(order_file_1, sep = \"\\t\", names = columns, parse_dates = 'time')\n",
    "\n",
    "# Files are organized by dates\n",
    "# n_files = 22\n",
    "order_files = [\"data/season_1/training_data/order_data/order_data_2016-01-{:02d}\".format(i) \n",
    "#                for i in range(1, n_files)]\n",
    "               for i in range(10, 16)]\n",
    "\n",
    "\n",
    "# Open all of them\n",
    "order_dfs = []\n",
    "for order_file in order_files:\n",
    "    order_dfs.append(pd.read_csv(order_file, sep = \"\\t\", names = columns))\n",
    "df = pd.concat(order_dfs)\n",
    "\n",
    "# Recognize time column as time\n",
    "df['time'] = pd.to_datetime(df.time)\n",
    "# Set the row labels to the time stamp\n",
    "# df = df.set_index('time')\n",
    "\n",
    "# Keep first two weeks for training, next one week for validation.\n",
    "ind = df['time'] < pd.to_datetime('2016-01-15')\n",
    "df_train = df[ind]\n",
    "df_valid = df[~ind]\n",
    "\n",
    "# Keep a random number of the rows\n",
    "# df_train = df.sample(frac = 0.70, random_state = 111)\n",
    "# df_valid = df[~df.index.isin(df_train.index)]\n",
    "\n",
    "# Avoid looking at validation set during the exploration\n",
    "df = df_train\n",
    "\n",
    "# Quick look at the data frame\n",
    "df.head(2)"
   ]
  },
  {
   "cell_type": "code",
   "execution_count": 3,
   "metadata": {
    "collapsed": false
   },
   "outputs": [
    {
     "data": {
      "text/plain": [
       "datetime64[ns]    1\n",
       "float64           1\n",
       "object            5\n",
       "dtype: int64"
      ]
     },
     "execution_count": 3,
     "metadata": {},
     "output_type": "execute_result"
    }
   ],
   "source": [
    "df.get_dtype_counts()"
   ]
  },
  {
   "cell_type": "code",
   "execution_count": 4,
   "metadata": {
    "collapsed": false
   },
   "outputs": [
    {
     "name": "stdout",
     "output_type": "stream",
     "text": [
      "Dates from 2016-01-10 00:00:03 to 2016-01-14 23:59:57.\n",
      "1979690 entries\n",
      "1975907 unique orders (99.8%)\n",
      "654563 unique passengers (33.1%)\n",
      "66048 unique drivers (3.3%)\n",
      "66 unique starting districts (0.0%)\n",
      "538 unique destination districts (0.0%)\n",
      "\n",
      "\n",
      "count    1979690.000000\n",
      "mean          16.847202\n",
      "std           15.982573\n",
      "min            0.000000\n",
      "25%            7.900000\n",
      "50%           12.100000\n",
      "75%           21.000000\n",
      "max          512.000000\n",
      "Name: price, dtype: float64\n"
     ]
    }
   ],
   "source": [
    "# Dates?\n",
    "\n",
    "print(\"Dates from {} to {}.\".format(df['time'].min(), df['time'].max()))\n",
    "\n",
    "# How many entries? unique orders/passengers/drivers?\n",
    "\n",
    "num_entries = df.shape[0]\n",
    "print(\"{} entries\".format(num_entries))\n",
    "\n",
    "num_orders = len(df.order_id.unique())\n",
    "print(\"{} unique orders ({:.1%})\".format(num_orders, num_orders/num_entries))\n",
    "\n",
    "num_pass = len(df.passenger_id.unique())\n",
    "print(\"{} unique passengers ({:.1%})\".format(num_pass, num_pass/num_entries))\n",
    "      \n",
    "num_drivers = len(df.driver_id.unique())\n",
    "print(\"{} unique drivers ({:.1%})\".format(num_drivers, num_drivers/num_entries))\n",
    "\n",
    "num_start_district = len(df.start_district_hash.unique())\n",
    "print(\"{} unique starting districts ({:.1%})\".format(num_start_district, num_start_district/num_entries))\n",
    "\n",
    "num_dest_district = len(df.dest_district_hash.unique())\n",
    "print(\"{} unique destination districts ({:.1%})\".format(num_dest_district, num_dest_district/num_entries))\n",
    "\n",
    "# Price distribution\n",
    "\n",
    "print(\"\\n\")\n",
    "print(df.price.describe())"
   ]
  },
  {
   "cell_type": "code",
   "execution_count": 5,
   "metadata": {
    "collapsed": false
   },
   "outputs": [
    {
     "data": {
      "text/html": [
       "<div>\n",
       "<table border=\"1\" class=\"dataframe\">\n",
       "  <thead>\n",
       "    <tr style=\"text-align: right;\">\n",
       "      <th></th>\n",
       "      <th>order_id</th>\n",
       "      <th>driver_id</th>\n",
       "      <th>passenger_id</th>\n",
       "      <th>start_district_hash</th>\n",
       "      <th>dest_district_hash</th>\n",
       "      <th>price</th>\n",
       "      <th>time</th>\n",
       "      <th>date</th>\n",
       "      <th>timeonly</th>\n",
       "      <th>timeslot_absolute</th>\n",
       "      <th>timeslot</th>\n",
       "      <th>time_from_begin</th>\n",
       "      <th>dow</th>\n",
       "      <th>weekend</th>\n",
       "    </tr>\n",
       "  </thead>\n",
       "  <tbody>\n",
       "    <tr>\n",
       "      <th>0</th>\n",
       "      <td>8eb94f6832600ee0d342d8a931f64df7</td>\n",
       "      <td>a51979c9a0b257fa81cc401ac8addc97</td>\n",
       "      <td>114cfc989cea164e63d3405fe3055d09</td>\n",
       "      <td>90c5a34f06ac86aee0fd70e2adce7d8a</td>\n",
       "      <td>90c5a34f06ac86aee0fd70e2adce7d8a</td>\n",
       "      <td>7</td>\n",
       "      <td>2016-01-10 19:42:02</td>\n",
       "      <td>2016-01-10</td>\n",
       "      <td>19:42:02</td>\n",
       "      <td>1414</td>\n",
       "      <td>119</td>\n",
       "      <td>9.819444</td>\n",
       "      <td>6</td>\n",
       "      <td>True</td>\n",
       "    </tr>\n",
       "    <tr>\n",
       "      <th>1</th>\n",
       "      <td>982ca599b83542f32a62fa63fdc25681</td>\n",
       "      <td>9f5decbb0180ab1979ff293bec7d1f93</td>\n",
       "      <td>d52994586c13b6066fd031ba7f684e24</td>\n",
       "      <td>62afaf3288e236b389af9cfdc5206415</td>\n",
       "      <td>62afaf3288e236b389af9cfdc5206415</td>\n",
       "      <td>8</td>\n",
       "      <td>2016-01-10 14:24:23</td>\n",
       "      <td>2016-01-10</td>\n",
       "      <td>14:24:23</td>\n",
       "      <td>1382</td>\n",
       "      <td>87</td>\n",
       "      <td>9.597222</td>\n",
       "      <td>6</td>\n",
       "      <td>True</td>\n",
       "    </tr>\n",
       "  </tbody>\n",
       "</table>\n",
       "</div>"
      ],
      "text/plain": [
       "                           order_id                         driver_id  \\\n",
       "0  8eb94f6832600ee0d342d8a931f64df7  a51979c9a0b257fa81cc401ac8addc97   \n",
       "1  982ca599b83542f32a62fa63fdc25681  9f5decbb0180ab1979ff293bec7d1f93   \n",
       "\n",
       "                       passenger_id               start_district_hash  \\\n",
       "0  114cfc989cea164e63d3405fe3055d09  90c5a34f06ac86aee0fd70e2adce7d8a   \n",
       "1  d52994586c13b6066fd031ba7f684e24  62afaf3288e236b389af9cfdc5206415   \n",
       "\n",
       "                 dest_district_hash  price                time        date  \\\n",
       "0  90c5a34f06ac86aee0fd70e2adce7d8a      7 2016-01-10 19:42:02  2016-01-10   \n",
       "1  62afaf3288e236b389af9cfdc5206415      8 2016-01-10 14:24:23  2016-01-10   \n",
       "\n",
       "   timeonly  timeslot_absolute  timeslot  time_from_begin  dow weekend  \n",
       "0  19:42:02               1414       119         9.819444    6    True  \n",
       "1  14:24:23               1382        87         9.597222    6    True  "
      ]
     },
     "execution_count": 5,
     "metadata": {},
     "output_type": "execute_result"
    }
   ],
   "source": [
    "# Extract the date, and implicitly make the time midnight.\n",
    "df['date'] = df.time.dt.date\n",
    "df['timeonly'] = df.time.dt.time\n",
    "\n",
    "# Compute time slot\n",
    "df['timeslot_absolute'] = (df['time'] - pd.to_datetime('2016-01-01')).astype('timedelta64[m]')//10 # since begin\n",
    "df['timeslot'] = df['timeslot_absolute'] % (24*6) + 1 # Timeslot of day, indexed from 1 to 144.\n",
    "df['time_from_begin'] = df['timeslot_absolute']/6/24\n",
    "\n",
    "# Drop the time column?\n",
    "# df = df.drop('time', axis = 1)\n",
    "\n",
    "# Is it a weekend or weekday?\n",
    "df['dow'] = df.time.dt.dayofweek\n",
    "df['weekend'] = df.dow >= 5\n",
    "\n",
    "df.head(2)"
   ]
  },
  {
   "cell_type": "code",
   "execution_count": 6,
   "metadata": {
    "collapsed": false
   },
   "outputs": [
    {
     "data": {
      "image/png": "[encoded data removed]",
      "text/plain": [
       "<matplotlib.figure.Figure at 0x7fa095910c50>"
      ]
     },
     "metadata": {},
     "output_type": "display_data"
    },
    {
     "data": {
      "text/plain": [
       "<ggplot: (8770520838464)>"
      ]
     },
     "execution_count": 6,
     "metadata": {},
     "output_type": "execute_result"
    }
   ],
   "source": [
    "# Plot of gap vs elapsed time in days group by ten minutes interval\n",
    "\n",
    "# Count how many rows per timeslot\n",
    "# count = df[['order_id', 'driver_id']].groupby('order_id').count()\n",
    "count = df.groupby('time_from_begin')['time_from_begin'].count()\n",
    "count = pd.DataFrame(count)\n",
    "count.columns = ['count']\n",
    "count.reset_index(level=0, inplace=True)\n",
    "\n",
    "ggplot(aes('time_from_begin', 'count'), data = count) + \\\n",
    "    geom_point(color = 'gray') + \\\n",
    "    geom_line() + \\\n",
    "    xlab('Elapsed time in days') + ylab('Order count')"
   ]
  },
  {
   "cell_type": "markdown",
   "metadata": {},
   "source": [
    "# Gap"
   ]
  },
  {
   "cell_type": "code",
   "execution_count": 7,
   "metadata": {
    "collapsed": false
   },
   "outputs": [
    {
     "name": "stdout",
     "output_type": "stream",
     "text": [
      "Number of orders taken by more than one driver: 2699\n",
      "There are 316338 orders-without-drivers out of 1975907 orders: 16.0%.\n"
     ]
    }
   ],
   "source": [
    "# Count how many rows per order_id and driver_id\n",
    "count = df[['order_id', 'driver_id']].groupby('order_id').count()\n",
    "count = count.reset_index()\n",
    "count = count['driver_id']\n",
    "\n",
    "# Orders picked up by more than one driver?\n",
    "print(\"Number of orders taken by more than one driver: {}\".format(sum(count > 1)))\n",
    "# Yes..? Surprising.\n",
    "\n",
    "# Turns out there are duplicate and almost-duplicate entries. \n",
    "# The FAQ recommends just leaving them in.\n",
    "\n",
    "# Remove the duplicates\n",
    "# dup = df.duplicated(['order_id', 'driver_id', 'passenger_id', 'time'], keep = 'last')\n",
    "# df = df[~dup]\n",
    "\n",
    "# Proportion of orders not picked up by a driver\n",
    "s = sum(count == 0)\n",
    "l = len(count)\n",
    "\n",
    "print(\"There are {} orders-without-drivers out of {} orders: {:.1%}.\".format(s, l, s/l))\n",
    "# The gap is simply the number of orders not picked up.\n",
    "\n",
    "# FIXME This might be overcounting gap. Some driver_id still get 1?"
   ]
  },
  {
   "cell_type": "code",
   "execution_count": 8,
   "metadata": {
    "collapsed": false
   },
   "outputs": [
    {
     "name": "stdout",
     "output_type": "stream",
     "text": [
      "There are 317114 orders-without-drivers out of 1979690 orders: 16.0%.\n"
     ]
    }
   ],
   "source": [
    "# Was order answered?\n",
    "df['is_gap'] = df['driver_id'].isnull()\n",
    "\n",
    "# Proportion of orders not picked up by a driver\n",
    "s = sum(df['is_gap'])\n",
    "l = len(df['is_gap'])\n",
    "print(\"There are {} orders-without-drivers out of {} orders: {:.1%}.\".format(s, l, s/l))\n",
    "\n",
    "# df.head(2)\n",
    "# df.describe()"
   ]
  },
  {
   "cell_type": "code",
   "execution_count": 9,
   "metadata": {
    "collapsed": false
   },
   "outputs": [
    {
     "data": {
      "image/png": "[encoded data removed]",
      "text/plain": [
       "<matplotlib.figure.Figure at 0x7fa09f5cf160>"
      ]
     },
     "metadata": {},
     "output_type": "display_data"
    },
    {
     "data": {
      "text/plain": [
       "<ggplot: (8770490354759)>"
      ]
     },
     "execution_count": 9,
     "metadata": {},
     "output_type": "execute_result"
    }
   ],
   "source": [
    "# Plot of gap vs elapsed time in days group by ten minutes interval\n",
    "\n",
    "cols = ['time_from_begin']\n",
    "df_select = df[cols + ['is_gap']]\n",
    "df_gap = df_select.groupby(cols).sum()\n",
    "df_gap = df_gap.reset_index()\n",
    "\n",
    "ggplot(aes('time_from_begin', 'is_gap'), data = df_gap) + \\\n",
    "    geom_point(color = 'gray') + \\\n",
    "    geom_line() + \\\n",
    "    xlab('Elapsed time in days') + ylab('Gap')"
   ]
  },
  {
   "cell_type": "code",
   "execution_count": 10,
   "metadata": {
    "collapsed": false
   },
   "outputs": [
    {
     "name": "stdout",
     "output_type": "stream",
     "text": [
      "317114.0\n"
     ]
    }
   ],
   "source": [
    "# Compute gap per timeslot per district\n",
    "# cols = ['start_district_hash', 'date', 'timeslot']\n",
    "\n",
    "# Number of missing drivers per group \n",
    "# df['gap'] = df.groupby(cols)['is_gap'].transform('sum')\n",
    "\n",
    "# df.head(2)\n",
    "\n",
    "# Make new data frame with gap per timeslot per district\n",
    "\n",
    "def compute_gap(df):\n",
    "    \n",
    "    # Gap is when no driver\n",
    "    df['is_gap'] = df['driver_id'].isnull()\n",
    "    \n",
    "    # Aggregate\n",
    "    cols = ['start_district_hash', 'date', 'timeslot']\n",
    "    df_select = df[cols + ['is_gap']]\n",
    "    df_gap = df_select.groupby(cols).sum()\n",
    "\n",
    "    # Flatten data frame\n",
    "    df_gap = df_gap.reset_index()\n",
    "    df_gap = df_gap.rename(columns = {'is_gap': 'gap'})\n",
    "    \n",
    "    return df_gap\n",
    "\n",
    "df_gap = compute_gap(df)\n",
    "\n",
    "# Sanity check: do the number add up?\n",
    "print(sum(df_gap.gap))\n",
    "\n",
    "# Merge back into main data frame\n",
    "# df = df.merge(df_gap, on = cols, how = 'left')"
   ]
  },
  {
   "cell_type": "markdown",
   "metadata": {},
   "source": [
    "# Weather\n",
    "\n",
    "<table>\n",
    "        <tr>\n",
    "            <th>Field</th>\n",
    "            <th>Type</th>\n",
    "            <th>Meaning</th>\n",
    "            <th>Example</th>\n",
    "        </tr>\n",
    "        <tr>\n",
    "            <td>Time</td>\n",
    "            <td>string</td>\n",
    "            <td>Timestamp</td>\n",
    "            <td>2016-01-15 00:35:11</td>\n",
    "        </tr>\n",
    "        <tr>\n",
    "            <td>Weather</td>\n",
    "            <td>int</td>\n",
    "            <td>Weather</td>\n",
    "            <td>7</td>\n",
    "        </tr>\n",
    "        <tr>\n",
    "            <td>temperature</td>\n",
    "            <td>double</td>\n",
    "            <td>Temperature</td>\n",
    "            <td>-9</td>\n",
    "        </tr>\n",
    "        <tr>\n",
    "            <td>PM2.5</td>\n",
    "            <td>double</td>\n",
    "            <td>pm25</td>\n",
    "            <td>66</td>\n",
    "        </tr>\n",
    "</table>\n",
    "\n",
    "The Weather Info Table shows the weather info every 10 minutes each city. The weather field gives the weather conditions such as sunny, rainy, and snowy etc; all sensitive information has been removed. The unit of temperature is Celsius degree, and PM2.5 is the level of air pollutions."
   ]
  },
  {
   "cell_type": "code",
   "execution_count": 11,
   "metadata": {
    "collapsed": false
   },
   "outputs": [
    {
     "data": {
      "text/html": [
       "<div>\n",
       "<table border=\"1\" class=\"dataframe\">\n",
       "  <thead>\n",
       "    <tr style=\"text-align: right;\">\n",
       "      <th></th>\n",
       "      <th>weather</th>\n",
       "      <th>temperature</th>\n",
       "      <th>pm25</th>\n",
       "      <th>timeslot</th>\n",
       "    </tr>\n",
       "  </thead>\n",
       "  <tbody>\n",
       "    <tr>\n",
       "      <th>count</th>\n",
       "      <td>4764.000000</td>\n",
       "      <td>4764.000000</td>\n",
       "      <td>4764.000000</td>\n",
       "      <td>4764.000000</td>\n",
       "    </tr>\n",
       "    <tr>\n",
       "      <th>mean</th>\n",
       "      <td>3.109152</td>\n",
       "      <td>6.823258</td>\n",
       "      <td>123.513854</td>\n",
       "      <td>67.926113</td>\n",
       "    </tr>\n",
       "    <tr>\n",
       "      <th>std</th>\n",
       "      <td>1.647197</td>\n",
       "      <td>3.666475</td>\n",
       "      <td>49.980933</td>\n",
       "      <td>41.519365</td>\n",
       "    </tr>\n",
       "    <tr>\n",
       "      <th>min</th>\n",
       "      <td>1.000000</td>\n",
       "      <td>0.000000</td>\n",
       "      <td>26.000000</td>\n",
       "      <td>1.000000</td>\n",
       "    </tr>\n",
       "    <tr>\n",
       "      <th>25%</th>\n",
       "      <td>2.000000</td>\n",
       "      <td>4.000000</td>\n",
       "      <td>89.000000</td>\n",
       "      <td>31.000000</td>\n",
       "    </tr>\n",
       "    <tr>\n",
       "      <th>50%</th>\n",
       "      <td>3.000000</td>\n",
       "      <td>7.000000</td>\n",
       "      <td>120.000000</td>\n",
       "      <td>66.000000</td>\n",
       "    </tr>\n",
       "    <tr>\n",
       "      <th>75%</th>\n",
       "      <td>4.000000</td>\n",
       "      <td>8.000000</td>\n",
       "      <td>160.000000</td>\n",
       "      <td>103.000000</td>\n",
       "    </tr>\n",
       "    <tr>\n",
       "      <th>max</th>\n",
       "      <td>9.000000</td>\n",
       "      <td>19.000000</td>\n",
       "      <td>276.000000</td>\n",
       "      <td>144.000000</td>\n",
       "    </tr>\n",
       "  </tbody>\n",
       "</table>\n",
       "</div>"
      ],
      "text/plain": [
       "           weather  temperature         pm25     timeslot\n",
       "count  4764.000000  4764.000000  4764.000000  4764.000000\n",
       "mean      3.109152     6.823258   123.513854    67.926113\n",
       "std       1.647197     3.666475    49.980933    41.519365\n",
       "min       1.000000     0.000000    26.000000     1.000000\n",
       "25%       2.000000     4.000000    89.000000    31.000000\n",
       "50%       3.000000     7.000000   120.000000    66.000000\n",
       "75%       4.000000     8.000000   160.000000   103.000000\n",
       "max       9.000000    19.000000   276.000000   144.000000"
      ]
     },
     "execution_count": 11,
     "metadata": {},
     "output_type": "execute_result"
    }
   ],
   "source": [
    "# Files are organized by dates\n",
    "n_files = 21\n",
    "weather_files = [\"data/season_1/training_data/weather_data/weather_data_2016-01-{:02d}\".format(i)\n",
    "                 for i in range(1, n_files)]\n",
    "\n",
    "# Open all of them\n",
    "columns = ['time', 'weather', 'temperature', 'pm25']\n",
    "weather_dfs = []\n",
    "for f in weather_files:\n",
    "    weather_dfs.append(pd.read_csv(f, sep = \"\\t\", names = columns))\n",
    "dfw = pd.concat(weather_dfs)\n",
    "\n",
    "# Extract date and time slot\n",
    "dfw['time'] = pd.to_datetime(dfw.time)\n",
    "dfw['date'] = dfw.time.dt.date\n",
    "dfw['timeslot'] = (dfw['time'] - pd.to_datetime(dfw['date'])).astype('timedelta64[m]')//10 + 1\n",
    "dfw = dfw.drop('time', axis = 1)\n",
    "\n",
    "# Merge into main data frame, and fill missing values\n",
    "# http://pandas.pydata.org/pandas-docs/stable/missing_data.html\n",
    "df = df.merge(dfw, on = ['date', 'timeslot'], how = 'left')\n",
    "df.temperature = df.temperature.fillna(method = 'ffill') # forward fill\n",
    "# df.temperature = df.temperature.interpolate(method = 'time') # time-based interpolation\n",
    "\n",
    "# Quick peek\n",
    "dfw.describe()"
   ]
  },
  {
   "cell_type": "code",
   "execution_count": 12,
   "metadata": {
    "collapsed": true
   },
   "outputs": [],
   "source": [
    "# Merge into grouped data frame\n",
    "df_gap = df_gap.merge(dfw, on = ['date', 'timeslot'], how = 'left')\n",
    "df_gap.temperature = df_gap.temperature.fillna(method = 'ffill')"
   ]
  },
  {
   "cell_type": "markdown",
   "metadata": {},
   "source": [
    "# Categorical Variables"
   ]
  },
  {
   "cell_type": "code",
   "execution_count": 13,
   "metadata": {
    "collapsed": true
   },
   "outputs": [],
   "source": [
    "# Ranking districts\n",
    "districts_rank = df.start_district_hash.value_counts(sort = True)\n",
    "districts_rank = districts_rank.rank(ascending = False, method = 'dense')\n",
    "districts_rank.head(5)\n",
    "\n",
    "# Create conversion table\n",
    "districts_convert = pd.DataFrame(data = districts_rank)\n",
    "districts_convert.reset_index(level=0, inplace=True)\n",
    "districts_convert.columns = ['start_district_hash', 'start_district_rank']\n",
    "# districts_convert.head(2)\n",
    "\n",
    "# Replace hash by rank\n",
    "df_gap = df_gap.merge(districts_convert, on = 'start_district_hash', how = 'left')\n",
    "# df_gap = df_gap.drop('start_district_hash', axis = 1)"
   ]
  },
  {
   "cell_type": "code",
   "execution_count": 14,
   "metadata": {
    "collapsed": false
   },
   "outputs": [
    {
     "data": {
      "text/html": [
       "<div>\n",
       "<table border=\"1\" class=\"dataframe\">\n",
       "  <thead>\n",
       "    <tr style=\"text-align: right;\">\n",
       "      <th></th>\n",
       "      <th>start_district_hash</th>\n",
       "      <th>date</th>\n",
       "      <th>timeslot</th>\n",
       "      <th>gap</th>\n",
       "      <th>weather</th>\n",
       "      <th>temperature</th>\n",
       "      <th>pm25</th>\n",
       "      <th>start_district_rank</th>\n",
       "    </tr>\n",
       "  </thead>\n",
       "  <tbody>\n",
       "    <tr>\n",
       "      <th>0</th>\n",
       "      <td>08232402614a9b48895cc3d0aeb0e9f2</td>\n",
       "      <td>2016-01-10</td>\n",
       "      <td>1</td>\n",
       "      <td>1</td>\n",
       "      <td>3</td>\n",
       "      <td>7</td>\n",
       "      <td>185</td>\n",
       "      <td>60</td>\n",
       "    </tr>\n",
       "    <tr>\n",
       "      <th>1</th>\n",
       "      <td>08232402614a9b48895cc3d0aeb0e9f2</td>\n",
       "      <td>2016-01-10</td>\n",
       "      <td>1</td>\n",
       "      <td>1</td>\n",
       "      <td>3</td>\n",
       "      <td>7</td>\n",
       "      <td>185</td>\n",
       "      <td>60</td>\n",
       "    </tr>\n",
       "  </tbody>\n",
       "</table>\n",
       "</div>"
      ],
      "text/plain": [
       "                start_district_hash        date  timeslot  gap  weather  \\\n",
       "0  08232402614a9b48895cc3d0aeb0e9f2  2016-01-10         1    1        3   \n",
       "1  08232402614a9b48895cc3d0aeb0e9f2  2016-01-10         1    1        3   \n",
       "\n",
       "   temperature  pm25  start_district_rank  \n",
       "0            7   185                   60  \n",
       "1            7   185                   60  "
      ]
     },
     "execution_count": 14,
     "metadata": {},
     "output_type": "execute_result"
    }
   ],
   "source": [
    "df_gap.head(2)"
   ]
  },
  {
   "cell_type": "code",
   "execution_count": 15,
   "metadata": {
    "collapsed": false
   },
   "outputs": [
    {
     "name": "stdout",
     "output_type": "stream",
     "text": [
      "The first 10 most popular districts account for 2193290 out of 3282759 (66.8%)\n"
     ]
    },
    {
     "data": {
      "text/html": [
       "<div>\n",
       "<table border=\"1\" class=\"dataframe\">\n",
       "  <thead>\n",
       "    <tr style=\"text-align: right;\">\n",
       "      <th></th>\n",
       "      <th>order_id</th>\n",
       "      <th>driver_id</th>\n",
       "      <th>passenger_id</th>\n",
       "      <th>start_district_hash</th>\n",
       "      <th>dest_district_hash</th>\n",
       "      <th>price</th>\n",
       "      <th>time</th>\n",
       "      <th>date</th>\n",
       "      <th>timeonly</th>\n",
       "      <th>timeslot_absolute</th>\n",
       "      <th>...</th>\n",
       "      <th>time_from_begin</th>\n",
       "      <th>dow</th>\n",
       "      <th>weekend</th>\n",
       "      <th>is_gap</th>\n",
       "      <th>weather</th>\n",
       "      <th>temperature</th>\n",
       "      <th>pm25</th>\n",
       "      <th>start_district_count</th>\n",
       "      <th>start_district_rank</th>\n",
       "      <th>district_rank</th>\n",
       "    </tr>\n",
       "  </thead>\n",
       "  <tbody>\n",
       "    <tr>\n",
       "      <th>0</th>\n",
       "      <td>8eb94f6832600ee0d342d8a931f64df7</td>\n",
       "      <td>a51979c9a0b257fa81cc401ac8addc97</td>\n",
       "      <td>114cfc989cea164e63d3405fe3055d09</td>\n",
       "      <td>90c5a34f06ac86aee0fd70e2adce7d8a</td>\n",
       "      <td>90c5a34f06ac86aee0fd70e2adce7d8a</td>\n",
       "      <td>7</td>\n",
       "      <td>2016-01-10 19:42:02</td>\n",
       "      <td>2016-01-10</td>\n",
       "      <td>19:42:02</td>\n",
       "      <td>1414</td>\n",
       "      <td>...</td>\n",
       "      <td>9.819444</td>\n",
       "      <td>6</td>\n",
       "      <td>True</td>\n",
       "      <td>False</td>\n",
       "      <td>4</td>\n",
       "      <td>7</td>\n",
       "      <td>156</td>\n",
       "      <td>175885</td>\n",
       "      <td>6</td>\n",
       "      <td>6</td>\n",
       "    </tr>\n",
       "    <tr>\n",
       "      <th>1</th>\n",
       "      <td>982ca599b83542f32a62fa63fdc25681</td>\n",
       "      <td>9f5decbb0180ab1979ff293bec7d1f93</td>\n",
       "      <td>d52994586c13b6066fd031ba7f684e24</td>\n",
       "      <td>62afaf3288e236b389af9cfdc5206415</td>\n",
       "      <td>62afaf3288e236b389af9cfdc5206415</td>\n",
       "      <td>8</td>\n",
       "      <td>2016-01-10 14:24:23</td>\n",
       "      <td>2016-01-10</td>\n",
       "      <td>14:24:23</td>\n",
       "      <td>1382</td>\n",
       "      <td>...</td>\n",
       "      <td>9.597222</td>\n",
       "      <td>6</td>\n",
       "      <td>True</td>\n",
       "      <td>False</td>\n",
       "      <td>8</td>\n",
       "      <td>7</td>\n",
       "      <td>191</td>\n",
       "      <td>207580</td>\n",
       "      <td>4</td>\n",
       "      <td>4</td>\n",
       "    </tr>\n",
       "  </tbody>\n",
       "</table>\n",
       "<p>2 rows × 21 columns</p>\n",
       "</div>"
      ],
      "text/plain": [
       "                           order_id                         driver_id  \\\n",
       "0  8eb94f6832600ee0d342d8a931f64df7  a51979c9a0b257fa81cc401ac8addc97   \n",
       "1  982ca599b83542f32a62fa63fdc25681  9f5decbb0180ab1979ff293bec7d1f93   \n",
       "\n",
       "                       passenger_id               start_district_hash  \\\n",
       "0  114cfc989cea164e63d3405fe3055d09  90c5a34f06ac86aee0fd70e2adce7d8a   \n",
       "1  d52994586c13b6066fd031ba7f684e24  62afaf3288e236b389af9cfdc5206415   \n",
       "\n",
       "                 dest_district_hash  price                time        date  \\\n",
       "0  90c5a34f06ac86aee0fd70e2adce7d8a      7 2016-01-10 19:42:02  2016-01-10   \n",
       "1  62afaf3288e236b389af9cfdc5206415      8 2016-01-10 14:24:23  2016-01-10   \n",
       "\n",
       "   timeonly  timeslot_absolute      ...        time_from_begin  dow  weekend  \\\n",
       "0  19:42:02               1414      ...               9.819444    6     True   \n",
       "1  14:24:23               1382      ...               9.597222    6     True   \n",
       "\n",
       "  is_gap weather  temperature  pm25  start_district_count  \\\n",
       "0  False       4            7   156                175885   \n",
       "1  False       8            7   191                207580   \n",
       "\n",
       "   start_district_rank  district_rank  \n",
       "0                    6              6  \n",
       "1                    4              4  \n",
       "\n",
       "[2 rows x 21 columns]"
      ]
     },
     "execution_count": 15,
     "metadata": {},
     "output_type": "execute_result"
    }
   ],
   "source": [
    "# Rank\n",
    "df['start_district_count'] = df.groupby('start_district_hash')['start_district_hash'].transform('count')\n",
    "df['start_district_rank'] = df['start_district_count'].rank(ascending = False, method = 'dense')\n",
    "df['district_rank'] = df['start_district_rank']\n",
    "\n",
    "# Number of most popular districts to keep\n",
    "k = 10\n",
    "\n",
    "num_entries = df.shape[0]\n",
    "df_filtered = df[df['start_district_rank'] <= k]\n",
    "num_top = df_filtered.groupby('start_district_hash')['start_district_count'].mean().sum()\n",
    "\n",
    "# Look at k top districts\n",
    "print(\"The first {} most popular districts account for {} out of {} ({:.1%})\".format(\n",
    "        k, num_top, num_entries, num_top/num_entries))\n",
    "\n",
    "# Extract most popular districts\n",
    "districts_top = df_filtered['start_district_hash']\n",
    "\n",
    "# Look only at most popular districts\n",
    "# df['district'] = np.nan\n",
    "# df.loc[df.start_district_hash.isin(districts_top), 'district'] = \\\n",
    "#     df.loc[df.start_district_hash.isin(districts_top), 'start_district_hash']\n",
    "    \n",
    "# One-hot encoding\n",
    "# dummies = pd.get_dummies(df['district'], dummy_na = False)\n",
    "# df = pd.concat((df.drop('district', axis = 1), dummies.astype(int)), axis = 1)\n",
    "\n",
    "df.head(2)"
   ]
  },
  {
   "cell_type": "markdown",
   "metadata": {},
   "source": [
    "# Preparation for Validation"
   ]
  },
  {
   "cell_type": "code",
   "execution_count": 16,
   "metadata": {
    "collapsed": false
   },
   "outputs": [],
   "source": [
    "# Compute time slot\n",
    "df_valid['time'] = pd.to_datetime(df_valid.time)\n",
    "df_valid['date'] = df_valid.time.dt.date\n",
    "df_valid['timeslot'] = (df_valid['time'] - pd.to_datetime(df_valid['date'])).astype('timedelta64[m]')//10 + 1\n",
    "\n",
    "# Day of week\n",
    "df_valid['dow'] = df_valid.time.dt.dayofweek\n",
    "df_valid['weekend'] = df_valid.dow >= 5\n",
    "\n",
    "# Compute gap per time slot per district\n",
    "# df_valid['is_gap'] = df_valid['driver_id'].isnull()\n",
    "# cols = ['start_district_hash', 'date', 'timeslot']\n",
    "# df_select = df_valid[cols + ['is_gap']]\n",
    "# df_gap = df_select.groupby(cols).sum()\n",
    "# df_gap = df_gap.reset_index().rename(columns = {'is_gap': 'gap'})\n",
    "# df_valid = df_valid.merge(df_gap, on = cols, how = 'left')\n",
    "\n",
    "# Compute gap per time slot per district\n",
    "df_valid_gap = compute_gap(df_valid)\n",
    "\n",
    "# Merge temperature\n",
    "df_valid = df_valid.merge(dfw, on = ['date', 'timeslot'], how = 'left')\n",
    "df_valid.temperature = df_valid.temperature.fillna(method = 'ffill')\n",
    "\n",
    "# One-hot encoding of districts\n",
    "# df_valid['district'] = np.nan\n",
    "# df_valid.loc[df_valid.start_district_hash.isin(districts), 'district'] = \\\n",
    "#     df_valid.loc[df_valid.start_district_hash.isin(districts), 'start_district_hash']\n",
    "# dummies = pd.get_dummies(df_valid['district'], dummy_na = False)\n",
    "# df_valid = pd.concat((df_valid.drop('district', axis = 1), dummies.astype(int)), axis = 1)\n",
    "\n",
    "# Replace district by popularity\n",
    "df_valid = df_valid.merge(districts_convert, on = 'start_district_hash', how = 'left')"
   ]
  },
  {
   "cell_type": "markdown",
   "metadata": {},
   "source": [
    "# Time"
   ]
  },
  {
   "cell_type": "code",
   "execution_count": 17,
   "metadata": {
    "collapsed": false
   },
   "outputs": [],
   "source": [
    "# Is it a weekend or weekday?\n",
    "df_gap['dow'] = pd.to_datetime(df_gap.date).dt.dayofweek\n",
    "df_gap['weekend'] = df_gap.dow >= 5\n",
    "\n",
    "# Is it a weekend or weekday?\n",
    "df_valid_gap['dow'] = pd.to_datetime(df_valid_gap.date).dt.dayofweek\n",
    "df_valid_gap['weekend'] = df_valid_gap.dow >= 5"
   ]
  },
  {
   "cell_type": "markdown",
   "metadata": {},
   "source": [
    "# Test Data"
   ]
  },
  {
   "cell_type": "code",
   "execution_count": 18,
   "metadata": {
    "collapsed": false
   },
   "outputs": [],
   "source": [
    "# Columns in order files\n",
    "columns = ['datetimeslot']\n",
    "\n",
    "# Open list of slots\n",
    "order_file = 'data/season_1/test_set_1/read_me_1.txt'\n",
    "df_test = pd.read_csv(order_file, sep = \"\\t\", names = columns, skiprows = 1)\n",
    "\n",
    "# Extract date and timeslot [0,143]\n",
    "df_test['date'] = pd.to_datetime(df_test.datetimeslot.str[:10])\n",
    "df_test['timeslot'] = df_test.datetimeslot.str[11:]\n",
    "df_test['timeslot'] = df_test.timeslot.astype(int)\n",
    "# df_test.dtypes\n",
    "\n",
    "# Day of week\n",
    "df_test['dow'] = df_test.date.dt.dayofweek\n",
    "df_test['weekend'] = df_test.dow >= 5\n",
    "\n",
    "# df_test"
   ]
  },
  {
   "cell_type": "code",
   "execution_count": 19,
   "metadata": {
    "collapsed": false
   },
   "outputs": [],
   "source": [
    "# Extract timeslots for testing in validation\n",
    "timeslots = df_test.timeslot.unique()\n",
    "df_valid_gap_selected = df_valid_gap[df_valid_gap['timeslot'].isin(timeslots)]\n",
    "\n",
    "df_valid_gap = df_valid_gap_selected"
   ]
  },
  {
   "cell_type": "markdown",
   "metadata": {},
   "source": [
    "# Predictions by Clusters"
   ]
  },
  {
   "cell_type": "code",
   "execution_count": 27,
   "metadata": {
    "collapsed": false
   },
   "outputs": [],
   "source": [
    "# Make first prediction by simply taking the mean per start_district_hash per timeslot per weekend\n",
    "cols = ['start_district_hash', 'weekend', 'timeslot']\n",
    "# cols = ['start_district_hash', 'dow', 'timeslot']\n",
    "\n",
    "df_select = df_gap[cols + ['gap']]\n",
    "df_grouped = df_select.groupby(cols)\n",
    "gap_cluster = df_grouped.median() # median, mean, min, max\n",
    "gap_cluster = gap_cluster.reset_index().rename(columns = {'gap': 'gap_cluster'})\n",
    "\n",
    "# Work directly on main data frame\n",
    "# df['gap_cluster'] = df[cols + ['gap']].groupby(cols)['gap'].transform('min')\n",
    "\n",
    "# Merge back into main data frame\n",
    "df_cluster = df_gap.merge(gap_cluster, on = cols, how = 'left')\n",
    "\n",
    "# Quick look\n",
    "df.head(2)\n",
    "\n",
    "# Set given outcome and predictions\n",
    "train_outcome = df_cluster['gap']\n",
    "train_predict = df_cluster['gap_cluster']"
   ]
  },
  {
   "cell_type": "code",
   "execution_count": 28,
   "metadata": {
    "collapsed": false
   },
   "outputs": [],
   "source": [
    "# Validation\n",
    "\n",
    "df_valid_cluster = df_valid_gap[cols + ['gap']].merge(gap_cluster, on = cols, how = 'left')\n",
    "\n",
    "# FIXME Some values are missing predictions!\n",
    "valid_predict = valid_predict.fillna(0)\n",
    "\n",
    "valid_outcome = df_valid_cluster['gap']\n",
    "valid_predict = df_valid_cluster['gap_cluster']"
   ]
  },
  {
   "cell_type": "code",
   "execution_count": 22,
   "metadata": {
    "collapsed": false
   },
   "outputs": [],
   "source": [
    "# Test\n",
    "\n",
    "# df_test = df_test.merge(gap_cluster, on = cols, how = 'left')\n",
    "# test_predict = df_test['gap_cluster']"
   ]
  },
  {
   "cell_type": "markdown",
   "metadata": {},
   "source": [
    "# Prediction with sklearn"
   ]
  },
  {
   "cell_type": "code",
   "execution_count": 23,
   "metadata": {
    "collapsed": false
   },
   "outputs": [
    {
     "name": "stdout",
     "output_type": "stream",
     "text": [
      "Fit in 1 seconds.\n",
      "Extrapolate in 0 seconds.\n"
     ]
    }
   ],
   "source": [
    "# Select features\n",
    "cols = ['start_district_rank', 'dow', 'timeslot', 'temperature']\n",
    "# cols = ['start_district_rank', 'weekend', 'timeslot', 'temperature']\n",
    "train = df_gap[cols]\n",
    "\n",
    "# Reference outcome\n",
    "train_outcome = df_gap['gap']\n",
    "\n",
    "# Select regressor\n",
    "from sklearn.ensemble import RandomForestRegressor\n",
    "reg = RandomForestRegressor(n_estimators = 10)\n",
    "# from sklearn.tree import DecisionTreeRegressor\n",
    "# reg = DecisionTreeRegressor(max_depth = 3)\n",
    "\n",
    "# Fit training data\n",
    "start = clock()\n",
    "reg.fit(train, train_outcome)\n",
    "print(\"Fit in {:.0f} seconds.\".format(clock() - start))\n",
    "\n",
    "# Extrapolate to test data\n",
    "start = clock()\n",
    "train_predict = reg.predict(train)\n",
    "print(\"Extrapolate in {:.0f} seconds.\".format(clock() - start))"
   ]
  },
  {
   "cell_type": "code",
   "execution_count": 24,
   "metadata": {
    "collapsed": false
   },
   "outputs": [],
   "source": [
    "# Validation\n",
    "valid_outcome = df_valid_gap['gap']\n",
    "valid_predict = reg.predict(df_valid_gap[cols])"
   ]
  },
  {
   "cell_type": "markdown",
   "metadata": {},
   "source": [
    "# Evaluation\n",
    "Consider di districts and tj time slots, and the supply-demand gap gapij , and your prediction is sij, we use as the evaluation metrics: \n",
    "![MAPE](figures/mape.jpg)\n",
    "The lowest MAPE will be the best."
   ]
  },
  {
   "cell_type": "code",
   "execution_count": 107,
   "metadata": {
    "collapsed": false
   },
   "outputs": [
    {
     "name": "stdout",
     "output_type": "stream",
     "text": [
      "15756.7811282\n",
      "0.387344357732\n",
      "40679.0\n",
      "Training MAPE: 15756.781128\n",
      "255.858626514\n",
      "0.766043791958\n",
      "334.0\n",
      "Validation MAPE: 255.858627\n"
     ]
    }
   ],
   "source": [
    "def mape(outcome, predict):\n",
    "    # Compute MAPE score. Lower is better.\n",
    "    \n",
    "    # Verify that there are no missing values\n",
    "    assert not (outcome.isnull().values.any() or predict.isnull().values.any())\n",
    "    \n",
    "    # Compute errors summand for summand with nonzero denominator\n",
    "    diff = (outcome - predict) / outcome.replace({0: np.nan})\n",
    "    diff = diff.replace({np.nan: 0})\n",
    "    diff = diff.abs()\n",
    "    \n",
    "    # Compute the average over all district and timeslots for which outcome is NONZERO\n",
    "    nq = len(outcome.nonzero()[0])\n",
    "    return diff.sum() / nq\n",
    "\n",
    "# As of June 7th...\n",
    "# lowest score online is 0.224257,\n",
    "# 100th is 0.27747,\n",
    "# 500th is 0.360159.\n",
    "\n",
    "score = mape(train_outcome, train_predict)\n",
    "print(\"Training MAPE: {:.6f}\".format(score))\n",
    "\n",
    "score = mape(valid_outcome, valid_predict)\n",
    "print(\"Validation MAPE: {:.6f}\".format(score))\n",
    "\n",
    "# MAPE on training set\n",
    "# ['start_district_hash', 'weekend', 'timeslot', 'gap_cluster'] -- 0.003352\n",
    "# ['start_district_hash', 'dow', 'timeslot', 'gap_cluster'] -- 0.011473\n",
    "# ['start_district_hash', 'dow', 'timeslot', 'ffill-temperature', DTR] -- 0.777944\n",
    "# ['start_district_hash', 'dow', 'timeslot', 'ffill-temperature', RFR] -- 0.566997"
   ]
  },
  {
   "cell_type": "code",
   "execution_count": 110,
   "metadata": {
    "collapsed": false
   },
   "outputs": [
    {
     "name": "stdout",
     "output_type": "stream",
     "text": [
      "Training MAPE: 0.387344\n",
      "Validation MAPE: 0.766044\n"
     ]
    }
   ],
   "source": [
    "def mape(outcome, predict):\n",
    "    \n",
    "    # Verify that there are no missing values\n",
    "    assert not (outcome.isnull().values.any() or predict.isnull().values.any())\n",
    "    \n",
    "    # Get only the nonzero elements\n",
    "    idx = outcome != 0\n",
    "    # idx = np.abs(outcome) < 10^(-5)\n",
    "    \n",
    "    return np.mean(np.abs((outcome[idx] - predict[idx]) / outcome[idx]))\n",
    "\n",
    "score = mape(train_outcome, train_predict)\n",
    "print(\"Training MAPE: {:.6f}\".format(score))\n",
    "\n",
    "score = mape(valid_outcome, valid_predict)\n",
    "print(\"Validation MAPE: {:.6f}\".format(score))"
   ]
  },
  {
   "cell_type": "markdown",
   "metadata": {},
   "source": [
    "# District Info Table\n",
    "\n",
    "<table>\n",
    "        <tr>\n",
    "            <th>Field</th>\n",
    "            <th>Type</th>\n",
    "            <th>Meaning</th>\n",
    "            <th>Example</th>\n",
    "        </tr>\n",
    "        <tr>\n",
    "            <td>district_hash</td>\n",
    "            <td>string</td>\n",
    "            <td>District hash</td>\n",
    "            <td>90c5a34f06ac86aee0fd70e2adce7d8a</td>\n",
    "        </tr>\n",
    "        <tr>\n",
    "            <td>district_id</td>\n",
    "            <td>string</td>\n",
    "            <td>District ID</td>\n",
    "            <td>1</td>\n",
    "        </tr>\n",
    "</table>\n",
    "\n",
    "The District Info Table shows the information about the districts to be evaluated in the contest. You need to do the prediction given the districts from the District Definition Table. In the submission of the results, you need to map the district hash value to district mapped ID."
   ]
  },
  {
   "cell_type": "code",
   "execution_count": null,
   "metadata": {
    "collapsed": false,
    "scrolled": true
   },
   "outputs": [],
   "source": [
    "# Use the starting district_hash as the associated disctrict\n",
    "df['district_hash'] = df['start_district_hash']\n",
    "\n",
    "# Load district conversion table\n",
    "district_file = 'data/season_1/training_data/cluster_map/cluster_map'\n",
    "district = pd.read_csv(district_file, sep = '\\t', names = ['district_hash', 'district_id'])\n",
    "\n",
    "# How many districts?\n",
    "print(\"There are {} districts in the district file.\".format(district.shape[0]))\n",
    "\n",
    "# Replace district_hash by district_id in data frame\n",
    "df = df.merge(district, on = 'district_hash', how = 'left')\n",
    "# df = df.drop('district_hash', axis = 1)\n",
    "\n",
    "df.head(2)"
   ]
  },
  {
   "cell_type": "markdown",
   "metadata": {},
   "source": [
    "# Output\n",
    "<table class=\"table table-2\">\n",
    "        <tr>\n",
    "            <th>Data name</th>\n",
    "            <th>Data type</th>\n",
    "            <th>Example</th>\n",
    "        </tr>\n",
    "        <tr>\n",
    "            <td>District ID</td>\n",
    "            <td>string</td>\n",
    "            <td>1,2,3,4 (the same as district mapping ID)</td>\n",
    "        </tr>\n",
    "        <tr>\n",
    "            <td>Time slot</td>\n",
    "            <td>string</td>\n",
    "            <td>2016-01-23-1 (The first time slot on Jan. 23rd, 2016; one day is uniformly divided into 144 ten minute time slots)</td>\n",
    "        </tr>\n",
    "        <tr>\n",
    "            <td>Prediction value</td>\n",
    "            <td>double</td>\n",
    "            <td>6.0</td>\n",
    "        </tr>\n",
    "</table>"
   ]
  },
  {
   "cell_type": "code",
   "execution_count": null,
   "metadata": {
    "collapsed": false
   },
   "outputs": [],
   "source": [
    "# Make the date - timeslot column\n",
    "df_test['datetimeslot'] = df_test.date.map(str) + '-' + df_test.timeslot.astype(int).map(str)\n",
    "\n",
    "# Prepare output file\n",
    "df_test['district_id', 'datetimeslot', 'gap_cluster'].to_csv('predict.csv', index = False, header = False)"
   ]
  }
 ],
 "metadata": {
  "kernelspec": {
   "display_name": "Python 3",
   "language": "python",
   "name": "python3"
  },
  "language_info": {
   "codemirror_mode": {
    "name": "ipython",
    "version": 3
   },
   "file_extension": ".py",
   "mimetype": "text/x-python",
   "name": "python",
   "nbconvert_exporter": "python",
   "pygments_lexer": "ipython3",
   "version": "3.5.1"
  }
 },
 "nbformat": 4,
 "nbformat_minor": 0
}
